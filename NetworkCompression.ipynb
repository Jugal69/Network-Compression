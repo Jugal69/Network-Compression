{
  "nbformat": 4,
  "nbformat_minor": 0,
  "metadata": {
    "colab": {
      "name": "HW3Q1.ipynb",
      "version": "0.3.2",
      "provenance": []
    },
    "kernelspec": {
      "name": "python3",
      "display_name": "Python 3"
    },
    "accelerator": "GPU"
  },
  "cells": [
    {
      "metadata": {
        "id": "T5xm3KmdoldR",
        "colab_type": "text"
      },
      "cell_type": "markdown",
      "source": [
        "**Problem 1: Network Compression Using SVD**\n",
        "\n",
        "Loading all the libraries"
      ]
    },
    {
      "metadata": {
        "id": "F9Nnbg3rrpwn",
        "colab_type": "code",
        "colab": {}
      },
      "cell_type": "code",
      "source": [
        "import tensorflow as tf\n",
        "from tensorflow.python.framework import ops\n",
        "import numpy as np\n",
        "from tensorflow.examples.tutorials.mnist import input_data\n",
        "import matplotlib.pyplot as plt\n",
        "import warnings\n",
        "warnings.filterwarnings(\"ignore\")"
      ],
      "execution_count": 0,
      "outputs": []
    },
    {
      "metadata": {
        "id": "fnaxE46mo3-X",
        "colab_type": "text"
      },
      "cell_type": "markdown",
      "source": [
        "Loading the MNIST dataset"
      ]
    },
    {
      "metadata": {
        "id": "_Y5UJ_eFtOIG",
        "colab_type": "code",
        "outputId": "e6c55ff2-73e9-4cd4-b49b-e72a798dbf90",
        "colab": {
          "base_uri": "https://localhost:8080/",
          "height": 570
        }
      },
      "cell_type": "code",
      "source": [
        "mnist = input_data.read_data_sets('MNIST_data', one_hot=True)\n",
        "trainX, trainY, testX, testY = mnist.train.images, mnist.train.labels, mnist.test.images, mnist.test.labels\n",
        "print(trainY.shape)"
      ],
      "execution_count": 2,
      "outputs": [
        {
          "output_type": "stream",
          "text": [
            "WARNING:tensorflow:From <ipython-input-2-803ab4856a87>:1: read_data_sets (from tensorflow.contrib.learn.python.learn.datasets.mnist) is deprecated and will be removed in a future version.\n",
            "Instructions for updating:\n",
            "Please use alternatives such as official/mnist/dataset.py from tensorflow/models.\n",
            "WARNING:tensorflow:From /usr/local/lib/python3.6/dist-packages/tensorflow/contrib/learn/python/learn/datasets/mnist.py:260: maybe_download (from tensorflow.contrib.learn.python.learn.datasets.base) is deprecated and will be removed in a future version.\n",
            "Instructions for updating:\n",
            "Please write your own downloading logic.\n",
            "WARNING:tensorflow:From /usr/local/lib/python3.6/dist-packages/tensorflow/contrib/learn/python/learn/datasets/base.py:252: _internal_retry.<locals>.wrap.<locals>.wrapped_fn (from tensorflow.contrib.learn.python.learn.datasets.base) is deprecated and will be removed in a future version.\n",
            "Instructions for updating:\n",
            "Please use urllib or similar directly.\n",
            "Successfully downloaded train-images-idx3-ubyte.gz 9912422 bytes.\n",
            "WARNING:tensorflow:From /usr/local/lib/python3.6/dist-packages/tensorflow/contrib/learn/python/learn/datasets/mnist.py:262: extract_images (from tensorflow.contrib.learn.python.learn.datasets.mnist) is deprecated and will be removed in a future version.\n",
            "Instructions for updating:\n",
            "Please use tf.data to implement this functionality.\n",
            "Extracting MNIST_data/train-images-idx3-ubyte.gz\n",
            "Successfully downloaded train-labels-idx1-ubyte.gz 28881 bytes.\n",
            "WARNING:tensorflow:From /usr/local/lib/python3.6/dist-packages/tensorflow/contrib/learn/python/learn/datasets/mnist.py:267: extract_labels (from tensorflow.contrib.learn.python.learn.datasets.mnist) is deprecated and will be removed in a future version.\n",
            "Instructions for updating:\n",
            "Please use tf.data to implement this functionality.\n",
            "Extracting MNIST_data/train-labels-idx1-ubyte.gz\n",
            "WARNING:tensorflow:From /usr/local/lib/python3.6/dist-packages/tensorflow/contrib/learn/python/learn/datasets/mnist.py:110: dense_to_one_hot (from tensorflow.contrib.learn.python.learn.datasets.mnist) is deprecated and will be removed in a future version.\n",
            "Instructions for updating:\n",
            "Please use tf.one_hot on tensors.\n",
            "Successfully downloaded t10k-images-idx3-ubyte.gz 1648877 bytes.\n",
            "Extracting MNIST_data/t10k-images-idx3-ubyte.gz\n",
            "Successfully downloaded t10k-labels-idx1-ubyte.gz 4542 bytes.\n",
            "Extracting MNIST_data/t10k-labels-idx1-ubyte.gz\n",
            "WARNING:tensorflow:From /usr/local/lib/python3.6/dist-packages/tensorflow/contrib/learn/python/learn/datasets/mnist.py:290: DataSet.__init__ (from tensorflow.contrib.learn.python.learn.datasets.mnist) is deprecated and will be removed in a future version.\n",
            "Instructions for updating:\n",
            "Please use alternatives such as official/mnist/dataset.py from tensorflow/models.\n",
            "(55000, 10)\n"
          ],
          "name": "stdout"
        }
      ]
    },
    {
      "metadata": {
        "id": "38DZ0rTMo9Eu",
        "colab_type": "text"
      },
      "cell_type": "markdown",
      "source": [
        "Define the architecture of the neural network\n",
        "\n",
        "Learning rate=0.0008"
      ]
    },
    {
      "metadata": {
        "id": "SLC0XLeYuDJi",
        "colab_type": "code",
        "colab": {}
      },
      "cell_type": "code",
      "source": [
        "tf.reset_default_graph()  # To reset all the parameters of the graph for every execution\n",
        "tf.random.set_random_seed(0)\n",
        "input_units=784   # Total number of input units\n",
        "lr=tf.constant(.0008, dtype=tf.float32, name='learningRate')\n",
        "hidden_units=1024   # Total number of hidden units\n",
        "output_units=10    # Total number of output units\n",
        "x=tf.placeholder(tf.float32,shape=[None,input_units])\n",
        "y=tf.placeholder(tf.float32,shape=[None,output_units])"
      ],
      "execution_count": 0,
      "outputs": []
    },
    {
      "metadata": {
        "id": "LDnV4OzOpN_4",
        "colab_type": "text"
      },
      "cell_type": "markdown",
      "source": [
        "Randomly initialize the weights & biases for all the layers using He Initialization"
      ]
    },
    {
      "metadata": {
        "id": "k4uIcCVxuQdD",
        "colab_type": "code",
        "colab": {
          "base_uri": "https://localhost:8080/",
          "height": 108
        },
        "outputId": "f1c1cc44-12bb-4ed4-92da-64d68d39ef37"
      },
      "cell_type": "code",
      "source": [
        "w1 = tf.get_variable(\"W1\", shape=[input_units, hidden_units], initializer=tf.initializers.he_normal())\n",
        "b1 = tf.get_variable(\"b1\", shape=[1,hidden_units], initializer=tf.initializers.he_normal())\n",
        "w2 = tf.get_variable(\"W2\", shape=[hidden_units, hidden_units], initializer=tf.initializers.he_normal())\n",
        "b2 = tf.get_variable(\"b2\", shape=[1,hidden_units], initializer=tf.initializers.he_normal())\n",
        "w3 = tf.get_variable(\"W3\", shape=[hidden_units, hidden_units], initializer=tf.initializers.he_normal())\n",
        "b3 = tf.get_variable(\"b3\", shape=[1,hidden_units], initializer=tf.initializers.he_normal())\n",
        "w4 = tf.get_variable(\"W4\", shape=[hidden_units, hidden_units], initializer=tf.initializers.he_normal())\n",
        "b4 = tf.get_variable(\"b4\", shape=[1,hidden_units], initializer=tf.initializers.he_normal())\n",
        "w5 = tf.get_variable(\"W5\", shape=[hidden_units, hidden_units], initializer=tf.initializers.he_normal())\n",
        "b5 = tf.get_variable(\"b5\", shape=[1,hidden_units], initializer=tf.initializers.he_normal())\n",
        "w6 = tf.get_variable(\"W6\", shape=[hidden_units, output_units], initializer=tf.initializers.he_normal())\n",
        "b6 = tf.get_variable(\"b6\", shape=[1,output_units], initializer=tf.initializers.he_normal())"
      ],
      "execution_count": 4,
      "outputs": [
        {
          "output_type": "stream",
          "text": [
            "WARNING:tensorflow:From /usr/local/lib/python3.6/dist-packages/tensorflow/python/framework/op_def_library.py:263: colocate_with (from tensorflow.python.framework.ops) is deprecated and will be removed in a future version.\n",
            "Instructions for updating:\n",
            "Colocations handled automatically by placer.\n"
          ],
          "name": "stdout"
        }
      ]
    },
    {
      "metadata": {
        "id": "YO_B4WqXpSLI",
        "colab_type": "text"
      },
      "cell_type": "markdown",
      "source": [
        "Feedforward network"
      ]
    },
    {
      "metadata": {
        "id": "--i2QBBGuRYF",
        "colab_type": "code",
        "colab": {}
      },
      "cell_type": "code",
      "source": [
        "a1=tf.nn.relu(x@w1+b1)  # 1st hidden layer\n",
        "a2=tf.nn.relu(a1@w2+b2)  # 2nd hidden layer\n",
        "a3=tf.nn.relu(a2@w3+b3)  # 3rd hidden layer\n",
        "a4=tf.nn.relu(a3@w4+b4)  # 4th hidden layer\n",
        "a5=tf.nn.relu(a4@w5+b5)  # 5th hidden layer\n",
        "yhat=tf.nn.softmax(a5@w6+b6)  # output layer"
      ],
      "execution_count": 0,
      "outputs": []
    },
    {
      "metadata": {
        "id": "FW7ulQUNpX9O",
        "colab_type": "text"
      },
      "cell_type": "markdown",
      "source": [
        "Training the DNN:-\n",
        "\n",
        "Loss function : Cross-entropy\n",
        "\n",
        "Optimizer : Adam Optimizer"
      ]
    },
    {
      "metadata": {
        "id": "oDMmn-IHuktG",
        "colab_type": "code",
        "outputId": "d69ec6f8-977a-4e1c-9726-a67650efaecc",
        "colab": {
          "base_uri": "https://localhost:8080/",
          "height": 221
        }
      },
      "cell_type": "code",
      "source": [
        "loss=tf.reduce_sum(-y*tf.log(yhat))  # Cross-entropy\n",
        "train_step = tf.train.AdamOptimizer(learning_rate=lr).minimize(loss)  # Adam Optimization\n",
        "sess=tf.InteractiveSession()\n",
        "tf.global_variables_initializer().run()\n",
        "maxEpoch=251  # Total number of epochs\n",
        "for i in range(maxEpoch):\n",
        "  errt, _=sess.run([loss,train_step], feed_dict={x:trainX, y: trainY})\n",
        "  if not i%25:\n",
        "    print('Epoch number:',i,' Loss:',errt)\n",
        "print(' Accuracy:',sess.run(tf.reduce_mean(tf.cast(tf.equal(tf.argmax(yhat,axis=1),tf.argmax(y,axis=1)), tf.float32)), feed_dict={x: testX, y: testY})*100,'%')\n",
        "w1_baseline,w2_baseline,w3_baseline,w4_baseline,w5_baseline,w6_baseline=sess.run([w1,w2,w3,w4,w5,w6],feed_dict={x:trainX})\n",
        "b1_baseline,b2_baseline,b3_baseline,b4_baseline,b5_baseline,b6_baseline=sess.run([b1,b2,b3,b4,b5,b6],feed_dict={x:trainX})"
      ],
      "execution_count": 6,
      "outputs": [
        {
          "output_type": "stream",
          "text": [
            "Epoch number: 0  Loss: 253220.66\n",
            "Epoch number: 25  Loss: 72198.85\n",
            "Epoch number: 50  Loss: 16597.188\n",
            "Epoch number: 75  Loss: 8938.847\n",
            "Epoch number: 100  Loss: 5044.214\n",
            "Epoch number: 125  Loss: 2881.9004\n",
            "Epoch number: 150  Loss: 7846.703\n",
            "Epoch number: 175  Loss: 3438.2666\n",
            "Epoch number: 200  Loss: 1948.709\n",
            "Epoch number: 225  Loss: 1004.2184\n",
            "Epoch number: 250  Loss: 450.9746\n",
            " Accuracy: 97.69999980926514 %\n"
          ],
          "name": "stdout"
        }
      ]
    },
    {
      "metadata": {
        "id": "XL7BKGoiqQ0C",
        "colab_type": "text"
      },
      "cell_type": "markdown",
      "source": [
        "SVD on all the weight matrices"
      ]
    },
    {
      "metadata": {
        "id": "GRajyCe1XF46",
        "colab_type": "code",
        "colab": {}
      },
      "cell_type": "code",
      "source": [
        "u1, s1, v1 = np.linalg.svd(w1_baseline,full_matrices=False)\n",
        "u2, s2, v2 = np.linalg.svd(w2_baseline,full_matrices=False)\n",
        "u3, s3, v3 = np.linalg.svd(w3_baseline,full_matrices=False)\n",
        "u4, s4, v4 = np.linalg.svd(w4_baseline,full_matrices=False)\n",
        "u5, s5, v5 = np.linalg.svd(w5_baseline,full_matrices=False)"
      ],
      "execution_count": 0,
      "outputs": []
    },
    {
      "metadata": {
        "id": "mUje1XIpqYMs",
        "colab_type": "text"
      },
      "cell_type": "markdown",
      "source": [
        "Function to perform feed forward using the SVD approximated weights"
      ]
    },
    {
      "metadata": {
        "id": "Pv8O2pqoYny_",
        "colab_type": "code",
        "colab": {}
      },
      "cell_type": "code",
      "source": [
        "def getOutput(w11,w12,w21,w22,w31,w32,w41,w42,w51,w52,X):\n",
        "  a1=np.maximum(np.dot(np.dot(X,w11),w12)+b1_baseline,0)  # 1st Hidden layer\n",
        "  a2=np.maximum(np.dot(np.dot(a1,w21),w22)+b2_baseline,0)  # 2nd Hidden layer\n",
        "  a3=np.maximum(np.dot(np.dot(a2,w31),w32)+b3_baseline,0)  # 3rd Hidden layer\n",
        "  a4=np.maximum(np.dot(np.dot(a3,w41),w42)+b4_baseline,0)  # 4th Hidden layer\n",
        "  a5=np.maximum(np.dot(np.dot(a4,w51),w52)+b5_baseline,0)  # 5th Hidden layer\n",
        "  a6=np.exp(np.dot(a5,w6_baseline)+b6_baseline)\n",
        "  return np.argmax(a6/np.sum(a6,axis=1).reshape((-1,1)),axis=1)  # Output layer"
      ],
      "execution_count": 0,
      "outputs": []
    },
    {
      "metadata": {
        "id": "lqMSh0Hoqmww",
        "colab_type": "text"
      },
      "cell_type": "markdown",
      "source": [
        "Calculate the accuracy of all the DNNs with weights approximated using SVD with dimension D=10,20,50,100,200"
      ]
    },
    {
      "metadata": {
        "id": "lGphKr3peprX",
        "colab_type": "code",
        "outputId": "6456eedb-1db9-487a-9b45-856aec0bfbaf",
        "colab": {
          "base_uri": "https://localhost:8080/",
          "height": 102
        }
      },
      "cell_type": "code",
      "source": [
        "D=[10,20,50,100,200]\n",
        "accuracy=[]\n",
        "for d in D:\n",
        "  label=getOutput(u1[:,:d]*s1[:d],v1[:d],u2[:,:d]*s2[:d],v2[:d],u3[:,:d]*s3[:d],v3[:d],u4[:,:d]*s4[:d],v4[:d],u5[:,:d]*s5[:d],v5[:d],testX)\n",
        "  accuracy.append(np.sum(label==np.argmax(testY,axis=1))*100/testY.shape[0])\n",
        "  print('D:',d,' Accuracy:',accuracy[-1])"
      ],
      "execution_count": 9,
      "outputs": [
        {
          "output_type": "stream",
          "text": [
            "D: 10  Accuracy: 30.01\n",
            "D: 20  Accuracy: 51.19\n",
            "D: 50  Accuracy: 68.95\n",
            "D: 100  Accuracy: 81.55\n",
            "D: 200  Accuracy: 93.38\n"
          ],
          "name": "stdout"
        }
      ]
    },
    {
      "metadata": {
        "id": "TzjlBi7bryIj",
        "colab_type": "text"
      },
      "cell_type": "markdown",
      "source": [
        "Calculate the accuracy of the DNN with weight approximated using SVD with full dimension"
      ]
    },
    {
      "metadata": {
        "id": "gFwUcVAf6VCr",
        "colab_type": "code",
        "outputId": "86e43954-955e-4dcc-a763-7a8093b366ba",
        "colab": {
          "base_uri": "https://localhost:8080/",
          "height": 34
        }
      },
      "cell_type": "code",
      "source": [
        "label=getOutput(u1*s1,v1,u2*s2,v2,u3*s3,v3,u4*s4,v4,u5*s5,v5,testX)\n",
        "accuracy.append(np.sum(label==np.argmax(testY,axis=1))*100/testY.shape[0])\n",
        "D.append(784)\n",
        "print('Dfull Accuracy:',accuracy[-1])"
      ],
      "execution_count": 10,
      "outputs": [
        {
          "output_type": "stream",
          "text": [
            "Dfull Accuracy: 97.7\n"
          ],
          "name": "stdout"
        }
      ]
    },
    {
      "metadata": {
        "id": "Qxxv0dQTsWM_",
        "colab_type": "text"
      },
      "cell_type": "markdown",
      "source": [
        "Plotting the graph of the accuracy of the DNN for different values of D"
      ]
    },
    {
      "metadata": {
        "id": "D4ZvxgNR65E-",
        "colab_type": "code",
        "outputId": "5ea19804-0a67-47ea-dbf0-bbb68aa741de",
        "colab": {
          "base_uri": "https://localhost:8080/",
          "height": 361
        }
      },
      "cell_type": "code",
      "source": [
        "plt.plot(D,accuracy,'bo-')\n",
        "plt.xlabel('Values of D')\n",
        "plt.ylabel('Accuracy')\n",
        "plt.show()\n",
        "sess.close()"
      ],
      "execution_count": 11,
      "outputs": [
        {
          "output_type": "display_data",
          "data": {
            "image/png": "[encoded data removed]",
            "text/plain": [
              "<Figure size 576x396 with 1 Axes>"
            ]
          },
          "metadata": {
            "tags": []
          }
        }
      ]
    },
    {
      "metadata": {
        "id": "-6Ly1Efqs3H7",
        "colab_type": "text"
      },
      "cell_type": "markdown",
      "source": [
        "**Approach 1)** : Create a new DNN with SVD approximated weights\n",
        "\n",
        "Initializating the weights of the DNN with the SVD approximated value of D=20"
      ]
    },
    {
      "metadata": {
        "id": "NfKqGsJKwuGC",
        "colab_type": "code",
        "colab": {}
      },
      "cell_type": "code",
      "source": [
        "tf.reset_default_graph()  # To reset all the parameters of the graph for every execution\n",
        "sess=tf.InteractiveSession()\n",
        "d=20\n",
        "U1 = tf.Variable(u1[:,:d]*s1[:d], name='U1')  # 1st Hidden layer\n",
        "V1 = tf.Variable(v1[:d], name='V1')\n",
        "B1 = tf.Variable(b1_baseline, name='B1')\n",
        "\n",
        "U2 = tf.Variable(u2[:,:d]*s2[:d], name='U2')  # 2nd Hidden layer\n",
        "V2 = tf.Variable(v2[:d], name='V2')\n",
        "B2 = tf.Variable(b2_baseline, name='B2')\n",
        "\n",
        "U3 = tf.Variable(u3[:,:d]*s3[:d], name='U3')  # 3rd Hidden layer\n",
        "V3 = tf.Variable(v3[:d], name='V3')\n",
        "B3 = tf.Variable(b3_baseline, name='B3')\n",
        "\n",
        "U4 = tf.Variable(u4[:,:d]*s4[:d], name='U4')  # 4th Hidden layer\n",
        "V4 = tf.Variable(v4[:d], name='V4')\n",
        "B4 = tf.Variable(b4_baseline, name='B4')\n",
        "\n",
        "U5 = tf.Variable(u5[:,:d]*s5[:d], name='U5')  # 5th Hidden layer\n",
        "V5 = tf.Variable(v5[:d], name='V5')\n",
        "B5 = tf.Variable(b5_baseline, name='B5')\n",
        "\n",
        "W6 = tf.Variable(w6_baseline, name='W6')  # Output layer\n",
        "B6 = tf.Variable(b6_baseline, name='B6')"
      ],
      "execution_count": 0,
      "outputs": []
    },
    {
      "metadata": {
        "id": "7gU7P1SVtWRl",
        "colab_type": "text"
      },
      "cell_type": "markdown",
      "source": [
        "Defining the placeholders of the DNN"
      ]
    },
    {
      "metadata": {
        "id": "J874h6GnjHi9",
        "colab_type": "code",
        "colab": {}
      },
      "cell_type": "code",
      "source": [
        "lr=0.0005  # Learning rate\n",
        "x=tf.placeholder(tf.float32,shape=[None,input_units])\n",
        "y=tf.placeholder(tf.float32,shape=[None,output_units])"
      ],
      "execution_count": 0,
      "outputs": []
    },
    {
      "metadata": {
        "id": "b1e7_4Idjwq-",
        "colab_type": "code",
        "colab": {}
      },
      "cell_type": "code",
      "source": [
        "sess.run(tf.variables_initializer(var_list=[V1, U1, V2, U2, V3, U3, V4, U4, V5, U5, B1, B2, B3, B4, B5, W6, B6]))"
      ],
      "execution_count": 0,
      "outputs": []
    },
    {
      "metadata": {
        "id": "-1FC48e3thVj",
        "colab_type": "text"
      },
      "cell_type": "markdown",
      "source": [
        "Architecture of the new DNN"
      ]
    },
    {
      "metadata": {
        "id": "6m02r_xOkMW7",
        "colab_type": "code",
        "colab": {}
      },
      "cell_type": "code",
      "source": [
        "a1=tf.nn.relu(x@U1@V1+B1)  # 1st hidden layer\n",
        "a2=tf.nn.relu(a1@U2@V2+B2)  # 2nd hidden layer\n",
        "a3=tf.nn.relu(a2@U3@V3+B3)  # 3rd hidden layer\n",
        "a4=tf.nn.relu(a3@U4@V4+B4)  # 4th hidden layer\n",
        "a5=tf.nn.relu(a4@U5@V5+B5)  # 5th hidden layer\n",
        "yhat=tf.nn.softmax(a5@W6+B6)  # output layer"
      ],
      "execution_count": 0,
      "outputs": []
    },
    {
      "metadata": {
        "id": "7MkAbuqRtkyu",
        "colab_type": "text"
      },
      "cell_type": "markdown",
      "source": [
        "Training the new DNN:\n",
        "\n",
        "Learning rate=0.0005\n",
        "\n",
        "Loss function=Cross-entropy\n",
        "\n",
        "Optimizer=Adam Optimizer"
      ]
    },
    {
      "metadata": {
        "id": "K2_s9GhHlZ9Z",
        "colab_type": "code",
        "outputId": "37ee917d-f205-4c04-bab1-10ed2d802a72",
        "colab": {
          "base_uri": "https://localhost:8080/",
          "height": 153
        }
      },
      "cell_type": "code",
      "source": [
        "temp = set(tf.global_variables())\n",
        "loss=tf.reduce_sum(-y*tf.log(yhat))  # Cross-entropy\n",
        "train_step = tf.train.AdamOptimizer(learning_rate=lr).minimize(loss)  # Adam Optimization\n",
        "tf.variables_initializer(set(tf.global_variables())-temp).run()\n",
        "maxEpoch=306  # Total number of epochs\n",
        "for i in range(maxEpoch):\n",
        "  errt, _=sess.run([loss,train_step], feed_dict={x:trainX, y: trainY})\n",
        "  if not i%50:\n",
        "    print('Epoch number:',i,' Loss:',errt)\n",
        "print('Accuracy:',sess.run(tf.reduce_mean(tf.cast(tf.equal(tf.argmax(yhat,axis=1),tf.argmax(y,axis=1)), tf.float32)), feed_dict={x: testX, y: testY})*100,'%')\n",
        "sess.close()"
      ],
      "execution_count": 16,
      "outputs": [
        {
          "output_type": "stream",
          "text": [
            "Epoch number: 0  Loss: 78981.66\n",
            "Epoch number: 50  Loss: 9273.109\n",
            "Epoch number: 100  Loss: 6527.9746\n",
            "Epoch number: 150  Loss: 5067.6733\n",
            "Epoch number: 200  Loss: 3999.0254\n",
            "Epoch number: 250  Loss: 3208.815\n",
            "Epoch number: 300  Loss: 2648.535\n",
            "Accuracy: 97.00000286102295 %\n"
          ],
          "name": "stdout"
        }
      ]
    },
    {
      "metadata": {
        "id": "fjDvGLwyupVV",
        "colab_type": "text"
      },
      "cell_type": "markdown",
      "source": [
        "**Approach 2)** : Performing SVD at every iteration"
      ]
    },
    {
      "metadata": {
        "id": "V69ZbPcuxndf",
        "colab_type": "code",
        "colab": {}
      },
      "cell_type": "code",
      "source": [
        "def svd_approx(w, name=None):  \n",
        "    with tf.name_scope(name, \"SVDApprox\", [w]) as name:\n",
        "        return py_func(forward_func,[w],[np.float32],grad=backprop_func,name=name)"
      ],
      "execution_count": 0,
      "outputs": []
    },
    {
      "metadata": {
        "id": "MBIJ03FiPWv_",
        "colab_type": "code",
        "colab": {}
      },
      "cell_type": "code",
      "source": [
        "def py_func(func, inp, Tout, grad, stateful=True, name=None):\n",
        "    rnd_name = 'PyFuncGrad'+ str(np.random.randint(0, 1E+8))  # Random name for the Gradient function of each weight\n",
        "    tf.RegisterGradient(rnd_name)(grad)\n",
        "    g=tf.get_default_graph()\n",
        "    with g.gradient_override_map({\"PyFunc\": rnd_name}):   \n",
        "        return tf.py_func(func, inp, Tout, stateful=stateful, name=name)"
      ],
      "execution_count": 0,
      "outputs": []
    },
    {
      "metadata": {
        "id": "F71ip0muIgfR",
        "colab_type": "code",
        "colab": {}
      },
      "cell_type": "code",
      "source": [
        "def forward_func(w):  # Function that computes SVD of the weight matrix & reconstructs the weight matrix using just the first 20 components\n",
        "  u, s, v = np.linalg.svd(w,full_matrices=False)\n",
        "  return np.dot(u[:,:d]*s[:d],v[:d])"
      ],
      "execution_count": 0,
      "outputs": []
    },
    {
      "metadata": {
        "id": "ERNeOX46JnEi",
        "colab_type": "code",
        "colab": {}
      },
      "cell_type": "code",
      "source": [
        "def backprop_func(op,grad):  # Function to define the custom gradient of the loss function w.r.t each weight\n",
        "  return grad * op.inputs[0]"
      ],
      "execution_count": 0,
      "outputs": []
    },
    {
      "metadata": {
        "id": "Z4UDP6IZpu1c",
        "colab_type": "code",
        "colab": {}
      },
      "cell_type": "code",
      "source": [
        "tf.reset_default_graph()  # To reset all the parameters of the graph for every execution\n",
        "w1 = tf.Variable(w1_baseline, name='w1')\n",
        "b1 = tf.Variable(b1_baseline, name='b1')\n",
        "\n",
        "w2 = tf.Variable(w2_baseline, name='w2')\n",
        "b2 = tf.Variable(b2_baseline, name='b2')\n",
        "\n",
        "w3 = tf.Variable(w3_baseline, name='w3')\n",
        "b3 = tf.Variable(b3_baseline, name='b3')\n",
        "\n",
        "w4 = tf.Variable(w4_baseline, name='w4')\n",
        "b4 = tf.Variable(b4_baseline, name='b4')\n",
        "\n",
        "w5 = tf.Variable(w5_baseline, name='w5')\n",
        "b5 = tf.Variable(b5_baseline, name='b5')\n",
        "\n",
        "w6 = tf.Variable(w6_baseline, name='w6')\n",
        "b6 = tf.Variable(b6_baseline, name='b6')"
      ],
      "execution_count": 0,
      "outputs": []
    },
    {
      "metadata": {
        "id": "3T_QWaN6ry3-",
        "colab_type": "code",
        "colab": {}
      },
      "cell_type": "code",
      "source": [
        "lr=0.00004  # Learning rate\n",
        "x=tf.placeholder(tf.float32,shape=[None,input_units])\n",
        "y=tf.placeholder(tf.float32,shape=[None,output_units])"
      ],
      "execution_count": 0,
      "outputs": []
    },
    {
      "metadata": {
        "id": "nOHSECVvr0DB",
        "colab_type": "code",
        "colab": {}
      },
      "cell_type": "code",
      "source": [
        "sess=tf.InteractiveSession()\n",
        "sess.run(tf.variables_initializer(var_list=[w1, w2, w3, w4, w5, b1, b2, b3, b4, b5, w6, b6]))  # Initialize all the weights & biases of the network"
      ],
      "execution_count": 0,
      "outputs": []
    },
    {
      "metadata": {
        "id": "twvDsvaZ5OFw",
        "colab_type": "text"
      },
      "cell_type": "markdown",
      "source": [
        "Architecture of the neural network"
      ]
    },
    {
      "metadata": {
        "id": "2LVSdSomr0bd",
        "colab_type": "code",
        "colab": {
          "base_uri": "https://localhost:8080/",
          "height": 210
        },
        "outputId": "4497bbcb-bcbe-4ead-9298-d8959603aa28"
      },
      "cell_type": "code",
      "source": [
        "a1=tf.nn.relu(x@svd_approx(w1)[0]+b1)  # 1st hidden layer\n",
        "a2=tf.nn.relu(a1@svd_approx(w2)[0]+b2)  # 2nd hidden layer\n",
        "a3=tf.nn.relu(a2@svd_approx(w3)[0]+b3)  # 3rd hidden layer\n",
        "a4=tf.nn.relu(a3@svd_approx(w4)[0]+b4)  # 4th hidden layer\n",
        "a5=tf.nn.relu(a4@svd_approx(w5)[0]+b5)  # 5th hidden layer\n",
        "yhat=tf.nn.softmax(a5@w6+b6)  # output layer"
      ],
      "execution_count": 24,
      "outputs": [
        {
          "output_type": "stream",
          "text": [
            "WARNING:tensorflow:From <ipython-input-18-2248f505c45d>:6: py_func (from tensorflow.python.ops.script_ops) is deprecated and will be removed in a future version.\n",
            "Instructions for updating:\n",
            "tf.py_func is deprecated in TF V2. Instead, use\n",
            "    tf.py_function, which takes a python function which manipulates tf eager\n",
            "    tensors instead of numpy arrays. It's easy to convert a tf eager tensor to\n",
            "    an ndarray (just call tensor.numpy()) but having access to eager tensors\n",
            "    means `tf.py_function`s can use accelerators such as GPUs as well as\n",
            "    being differentiable using a gradient tape.\n",
            "    \n"
          ],
          "name": "stdout"
        }
      ]
    },
    {
      "metadata": {
        "id": "dHyoP20qxKxM",
        "colab_type": "code",
        "outputId": "f91fdb21-3f36-4fd6-8549-0e2680bc2741",
        "colab": {
          "base_uri": "https://localhost:8080/",
          "height": 391
        }
      },
      "cell_type": "code",
      "source": [
        "temp = set(tf.global_variables())\n",
        "loss=tf.reduce_sum(-y*tf.log(yhat))  # Cross-entropy\n",
        "train_step = tf.train.AdamOptimizer(learning_rate=lr).minimize(loss)   # Adam Optimization\n",
        "tf.variables_initializer(set(tf.global_variables())-temp).run()\n",
        "maxEpoch=1001  # Total number of epochs\n",
        "for i in range(maxEpoch):\n",
        "  errt,_=sess.run([loss,train_step], feed_dict={x:trainX, y: trainY})\n",
        "  if not i%50:\n",
        "    print('Epoch number:',i,' Loss:',errt)\n",
        "print('Accuracy:',sess.run(tf.reduce_mean(tf.cast(tf.equal(tf.argmax(yhat,axis=1),tf.argmax(y,axis=1)), tf.float32)), feed_dict={x: testX, y: testY})*100,'%')\n",
        "sess.close()"
      ],
      "execution_count": 25,
      "outputs": [
        {
          "output_type": "stream",
          "text": [
            "Epoch number: 0  Loss: 78981.66\n",
            "Epoch number: 50  Loss: 36530.004\n",
            "Epoch number: 100  Loss: 29784.207\n",
            "Epoch number: 150  Loss: 26823.656\n",
            "Epoch number: 200  Loss: 24652.156\n",
            "Epoch number: 250  Loss: 22742.342\n",
            "Epoch number: 300  Loss: 21121.076\n",
            "Epoch number: 350  Loss: 19796.074\n",
            "Epoch number: 400  Loss: 18713.27\n",
            "Epoch number: 450  Loss: 17866.656\n",
            "Epoch number: 500  Loss: 17344.678\n",
            "Epoch number: 550  Loss: 16929.03\n",
            "Epoch number: 600  Loss: 16457.252\n",
            "Epoch number: 650  Loss: 16035.494\n",
            "Epoch number: 700  Loss: 15597.636\n",
            "Epoch number: 750  Loss: 15400.366\n",
            "Epoch number: 800  Loss: 15204.808\n",
            "Epoch number: 850  Loss: 15062.45\n",
            "Epoch number: 900  Loss: 14885.204\n",
            "Epoch number: 950  Loss: 14675.687\n",
            "Epoch number: 1000  Loss: 14638.802\n",
            "Accuracy: 91.97999835014343 %\n"
          ],
          "name": "stdout"
        }
      ]
    }
  ]
}